{
 "cells": [
  {
   "cell_type": "code",
   "execution_count": 54,
   "id": "f5c62835",
   "metadata": {},
   "outputs": [],
   "source": [
    "from langchain_text_splitters import RecursiveCharacterTextSplitter\n",
    "from langchain.chat_models import init_chat_model\n",
    "from langchain_google_genai import GoogleGenerativeAIEmbeddings\n",
    "from langchain.document_loaders import PyPDFLoader\n",
    "from langchain.vectorstores import Chroma\n",
    "from langchain.retrievers import ParentDocumentRetriever\n",
    "from langchain.storage import InMemoryStore\n",
    "from langchain.prompts import PromptTemplate\n",
    "\n",
    "from dotenv import dotenv_values\n",
    "import os\n"
   ]
  },
  {
   "cell_type": "code",
   "execution_count": 53,
   "id": "9c59c565",
   "metadata": {},
   "outputs": [],
   "source": [
    "env_vars = dotenv_values()\n",
    "os.environ[\"GOOGLE_API_KEY\"] = env_vars[\"GOOGLE_API_KEY\"]\n",
    "\n",
    "RAG_PROMPT_TEMPLATE = \"\"\"\n",
    "Use the following context to answer the question at the end. \n",
    "If you don't know the answer, just say you don't know — don't make anything up.\n",
    "\n",
    "{context}\n",
    "\n",
    "Question: {question}\n",
    "Answer:\n",
    "\"\"\""
   ]
  },
  {
   "cell_type": "code",
   "execution_count": null,
   "id": "55991c0b",
   "metadata": {},
   "outputs": [],
   "source": [
    "embeddings = GoogleGenerativeAIEmbeddings(model=\"models/embedding-001\")\n",
    "child_text_splitter = RecursiveCharacterTextSplitter(chunk_size=1000, chunk_overlap=200)\n",
    "parent_text_splitter = RecursiveCharacterTextSplitter(chunk_size=3000, chunk_overlap=400) # Was planned but not used, the code retrieves the whole document instead\n",
    "\n",
    "pdf_docs_names = os.listdir(\"docs\")\n",
    "pdf_docs_names = [doc for doc in pdf_docs_names if doc.endswith(\".pdf\")]\n",
    "pdf_loaders = [PyPDFLoader(f\"docs/{doc}\") for doc in pdf_docs_names]\n",
    "pdf_docs = [loader.load() for loader in pdf_loaders]\n",
    "pdf_docs = [item for sublist in pdf_docs for item in sublist]  \n",
    "\n",
    "\n"
   ]
  },
  {
   "cell_type": "code",
   "execution_count": 46,
   "id": "3c6e76fa",
   "metadata": {},
   "outputs": [],
   "source": [
    "vectorstore = Chroma(\n",
    "    collection_name=\"pdf_docs\",\n",
    "    embedding_function=embeddings,\n",
    ")\n",
    "docstore   = InMemoryStore() \n",
    "retriever = ParentDocumentRetriever(\n",
    "    vectorstore=vectorstore,\n",
    "    child_splitter=child_text_splitter,\n",
    "    docstore=docstore\n",
    ")\n",
    "\n",
    "retriever.add_documents(pdf_docs)\n"
   ]
  },
  {
   "cell_type": "code",
   "execution_count": null,
   "id": "399548bd",
   "metadata": {},
   "outputs": [
    {
     "name": "stdout",
     "output_type": "stream",
     "text": [
      "Based on the provided context, the Marlin Glenfield Model 60 .22 LR rifle is mentioned as being used for hitting \"crows at well over 100 yards\" and is enjoyed by \"small-game hunters.\" This suggests it is suitable for hunting birds.\n"
     ]
    }
   ],
   "source": [
    "query = \"What is the best gun for hunting birds?\"\n",
    "\n",
    "docs = retriever.vectorstore.similarity_search_with_relevance_scores(\n",
    "    query=query,\n",
    "    k=3,\n",
    "    filter=None\n",
    ")\n",
    "\n",
    "\n",
    "relevant_doc_metadata = [doc.metadata for doc, score in docs if score > 0.6]\n",
    "\n",
    "relevant_doc_contents = \"\"\n",
    "\n",
    "seen_sources = set()\n",
    "for metadata in relevant_doc_metadata:\n",
    "    source = metadata.get(\"source\", \"Unknown source\")\n",
    "    if source in seen_sources:\n",
    "        continue\n",
    "    seen_sources.add(source)\n",
    "    if source != \"Unknown source\":\n",
    "        loaded_doc = PyPDFLoader(source).load()\n",
    "        relevant_doc_contents += f\"Source: {source}\\nContent: \"\n",
    "        for page in loaded_doc:\n",
    "            relevant_doc_contents += page.page_content + \"\\n\"\n",
    "\n",
    "\n",
    "prompt = PromptTemplate(\n",
    "    input_variables=[\"context\", \"question\"],\n",
    "    template=RAG_PROMPT_TEMPLATE\n",
    ")\n",
    "\n",
    "chat_model = init_chat_model(\"gemini-2.5-flash\", model_provider=\"google_genai\")\n",
    "\n",
    "chain = prompt | chat_model\n",
    "\n",
    "response = chain.invoke({\n",
    "    \"context\": relevant_doc_contents,\n",
    "    \"question\": query\n",
    "})\n",
    "\n",
    "print(response.content)"
   ]
  }
 ],
 "metadata": {
  "kernelspec": {
   "display_name": "venv",
   "language": "python",
   "name": "python3"
  },
  "language_info": {
   "codemirror_mode": {
    "name": "ipython",
    "version": 3
   },
   "file_extension": ".py",
   "mimetype": "text/x-python",
   "name": "python",
   "nbconvert_exporter": "python",
   "pygments_lexer": "ipython3",
   "version": "3.13.5"
  }
 },
 "nbformat": 4,
 "nbformat_minor": 5
}
